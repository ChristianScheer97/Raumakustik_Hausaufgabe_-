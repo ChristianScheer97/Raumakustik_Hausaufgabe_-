{
 "cells": [
  {
   "cell_type": "markdown",
   "metadata": {},
   "source": [
    "# Audiotechnik I: Raumakustik, SoSe 2022\n",
    "#### Prof. Dr. Stefan Weinzierl\n",
    "## Hausaufgabe I"
   ]
  },
  {
   "cell_type": "markdown",
   "metadata": {},
   "source": [
    "## Hinweise\n",
    "\n",
    "Abzugeben ist eine Jupyter Notebook Datei mit Text und Python Code einschließlich daraus erzeugten Abbildungen. Achten Sie darauf, dass alle formalen Anforderungen eines wissenschaftlichen Textes (Literaturverweise, gut beschriftete Abbildungen etc.) erfüllt sind und dass der Code gut dokumentiert und ausführbar ist. \n",
    "\n",
    "Abgabetermin ist Sonntag, 29. Mai (23:55 Uhr). Das Notebook mitsamt aller Dateien, die zum Ausführen des Notebooks notwendig sind, soll als ipynb-Datei mit der Namenskonvention 'Gruppe_Gruppennummer_Hausaufgabe_1.ipynb' bei ISIS hochgeladen werden. Nach 23:55 Uhr schließt die Uploadoption, verspätete Abgaben werden nicht berücksichtigt.\n"
   ]
  },
  {
   "cell_type": "code",
   "execution_count": 1,
   "metadata": {},
   "outputs": [],
   "source": [
    "# Zur Lösung der Hausaufgabe können folgende Module verwendet werden\n",
    "\n",
    "import numpy as np\n",
    "import matplotlib.pyplot as plt\n",
    "import sounddevice as sd\n",
    "import pyfar as pf\n",
    "import IPython.display as ipd"
   ]
  },
  {
   "attachments": {},
   "cell_type": "markdown",
   "metadata": {},
   "source": [
    "## Aufgabe 1\n",
    "\n",
    "Erzeugen Sie eine Bandpass-Filterbank für akustische Analysen in Oktavbändern mit Mittenfrequenzen von 125 Hz bis 8 kHz. Verwenden Sie Butterworth-Filter 10. Ordnung und eine Filterstruktur mit einer Serie von Biquad-Filtern (second order sections). Zeigen Sie exemplarisch, dass im Oktavband mit fm = 1 kHz die Anforderungen der DIN EN 61260-1 für Oktavfilter der Klasse 1 erfüllt sind, indem Sie den Amplitudengang des Filters und die Toleranzgrenzen der DIN plotten.\n",
    "(5 Punkte)"
   ]
  },
  {
   "cell_type": "code",
   "execution_count": 2,
   "metadata": {},
   "outputs": [],
   "source": [
    "# Loesung Aufgabe 1\n",
    "\n",
    "%matplotlib qt\n",
    "fs = 44100\n",
    "dirac = pf.signals.impulse(2**17, sampling_rate=44100)\n",
    "filterBank = pf.dsp.filter.fractional_octave_bands(dirac, 1, sampling_rate=None, freq_range=(125.0, 8000.0), order=10)\n",
    "\n",
    "pf.plot.freq(filterBank[3], label='10th order butterworth octave filter fm = 1000 Hz')\n",
    "\n",
    "f1 = 1000*(10**0.3)**-0.5\n",
    "#print(f1)\n",
    "f2 = 1000*(10**0.3)**0.5\n",
    "\n",
    "#Mittenfrequenzen\n",
    "fms = np.zeros(9)\n",
    "for j, i in enumerate(range(-4, 5)):\n",
    "    fms[j] = 1000*(10**0.3)**((2*i + 1)/2)\n",
    "\n",
    "#uneven mid freqs for upper border\n",
    "fms_uneven = np.zeros(6)\n",
    "partials = [(-3/8), (-1/4), (-1/8), (1/8), (1/4), (3/8)]\n",
    "for j, i in enumerate(partials):\n",
    "    fms_uneven[j] = 1000*(10**0.3)**(partials[j])\n",
    "\n",
    "# plot the lower border border of DIN EN 61260\n",
    "plt.plot([0, fms[0]], [-70, -70], label='lower DIN acceptance border', color='k', linestyle='dashed')\n",
    "plt.plot([fms[0], fms[1]], [-70, -60], [fms[1], fms[2]], [-60, -40.5], [fms[2], (f1 - 0.01)], [-40.5, -1.2], [(f1 - 0.01), f1], [-1.2, 0.4], [f1, (f2 - 0.01)], [0.4, 0.4], [(f2 - 0.01), f2], [0.4, -1.2], [f2, fms[5]], [-1.2, -40], [fms[5], fms[6]], [-40.5, -60], [fms[6], fms[7]], [-60, -70], [fms[7], len(filterBank.freq.T)], [-70, -70], color='k', linestyle='dashed')\n",
    "# plot the upper border border of DIN EN 61260\n",
    "plt.plot([(f1 - 0.01), f1],[-90, -5.3], label='upper DIN acceptance border', color='r', linestyle='dashed')\n",
    "plt.plot([f1, fms_uneven[0]], [-5.3, -1.4], [fms_uneven[0], fms_uneven[1]], [-1.4, -0.7], [fms_uneven[1], fms_uneven[2]], [-0.7, -0.5], [fms_uneven[2], 1000], [-0.5, -0.4], [1000, fms_uneven[3]], [-0.4, -0.5], [fms_uneven[3], fms_uneven[4]], [-0.5, -0.7], [fms_uneven[4], fms_uneven[5]], [-0.7, -1.4], [fms_uneven[5], (f2 - 0.01)], [-1.4, -5.3], [(f2 - 0.01), f2], [-5.3, -90], color='r', linestyle='dashed')\n",
    "\n",
    "plt.legend()\n",
    "\n",
    "# interactive plot so you can zoom in\n",
    "plt.show()\n",
    "\n"
   ]
  },
  {
   "attachments": {},
   "cell_type": "markdown",
   "metadata": {},
   "source": [
    "## Aufgabe 2"
   ]
  },
  {
   "cell_type": "markdown",
   "metadata": {},
   "source": [
    "fm = 1000\n",
    "delta_a = A - A_ref\n",
    "Grenzfrequenzen Durchlassbereich: "
   ]
  },
  {
   "cell_type": "markdown",
   "metadata": {},
   "source": [
    "a. Laden Sie die Impulsantwort „RIR_Vicenza“.\n",
    "Berechnen Sie die mit der oben erzeugten Filterbank die bandpassgefilterten Impulsantworten und plotten diese als quadrierte und auf den Maximalwert als 0 dB-Punkt normierte und logarithmierte Kurven. Die folgenden Berechnungsschritte sollen für jedes Oktavband durchgeführt werden. Die Berechnung entspricht einer leicht vereinfachten Version des in \n",
    "\n",
    "Lundeby, A., Vigran, T. E., Bietz, H., & Vorländer, M. (1995). Uncertainties of measurements in room acoustics. Acta Acustica united with Acustica, 81(4), 344-355.\n",
    "\n",
    "beschriebenen Vorgehens. (2 Punkte)"
   ]
  },
  {
   "cell_type": "code",
   "execution_count": 16,
   "metadata": {},
   "outputs": [
    {
     "name": "stderr",
     "output_type": "stream",
     "text": [
      "c:\\Users\\user\\anaconda3\\lib\\site-packages\\pyfar\\plot\\_utils.py:28: UserWarning: Tight layout not applied. tight_layout cannot make axes height small enough to accommodate all axes decorations.\n",
      "  plt.tight_layout()\n",
      "c:\\Users\\user\\anaconda3\\lib\\site-packages\\pyfar\\plot\\_utils.py:28: UserWarning: Tight layout not applied. tight_layout cannot make axes height small enough to accommodate all axes decorations.\n",
      "  plt.tight_layout()\n",
      "c:\\Users\\user\\anaconda3\\lib\\site-packages\\pyfar\\plot\\_utils.py:28: UserWarning: Tight layout not applied. tight_layout cannot make axes height small enough to accommodate all axes decorations.\n",
      "  plt.tight_layout()\n",
      "c:\\Users\\user\\anaconda3\\lib\\site-packages\\pyfar\\plot\\_utils.py:28: UserWarning: Tight layout not applied. tight_layout cannot make axes height small enough to accommodate all axes decorations.\n",
      "  plt.tight_layout()\n",
      "c:\\Users\\user\\anaconda3\\lib\\site-packages\\pyfar\\plot\\_utils.py:28: UserWarning: Tight layout not applied. tight_layout cannot make axes height small enough to accommodate all axes decorations.\n",
      "  plt.tight_layout()\n",
      "c:\\Users\\user\\anaconda3\\lib\\site-packages\\pyfar\\plot\\_utils.py:28: UserWarning: Tight layout not applied. tight_layout cannot make axes height small enough to accommodate all axes decorations.\n",
      "  plt.tight_layout()\n",
      "c:\\Users\\user\\anaconda3\\lib\\site-packages\\pyfar\\plot\\_utils.py:28: UserWarning: Tight layout not applied. tight_layout cannot make axes height small enough to accommodate all axes decorations.\n",
      "  plt.tight_layout()\n"
     ]
    },
    {
     "data": {
      "text/plain": [
       "array([<AxesSubplot:xlabel='Time in s', ylabel='Amplitude'>,\n",
       "       <AxesSubplot:xlabel='Time in s', ylabel='Amplitude'>,\n",
       "       <AxesSubplot:xlabel='Time in s', ylabel='Amplitude'>,\n",
       "       <AxesSubplot:xlabel='Time in s', ylabel='Amplitude'>,\n",
       "       <AxesSubplot:xlabel='Time in s', ylabel='Amplitude'>,\n",
       "       <AxesSubplot:xlabel='Time in s', ylabel='Amplitude'>,\n",
       "       <AxesSubplot:xlabel='Time in s', ylabel='Amplitude'>], dtype=object)"
      ]
     },
     "execution_count": 16,
     "metadata": {},
     "output_type": "execute_result"
    },
    {
     "data": {
      "image/png": "[encoded data removed]",
      "text/plain": [
       "<Figure size 432x288 with 7 Axes>"
      ]
     },
     "metadata": {},
     "output_type": "display_data"
    }
   ],
   "source": [
    "# Loesung Aufgabe 2a\n",
    "\n",
    "%matplotlib inline\n",
    "import os\n",
    "rir_vicenza = pf.io.read_wav(os.getcwd()+'/audio/RIR_Vicenza.wav')\n",
    "rir_vicenza_filtered = pf.dsp.convolve(rir_vicenza, filterBank)\n",
    "\n",
    "#figs, axs = plt.subplots(len(filterBank), 1)\n",
    "\n",
    "plots = []\n",
    "for i in range(len(filterBank.time)):\n",
    "    plots.append([pf.plot.time])\n",
    "\n",
    "pf.plot.custom_subplots(filterBank, plots)\n",
    "\n",
    "\n",
    "    \n",
    "#for band, idx in enumerate (filterBank):\n",
    "   # pf.plot.custom_subplots(filterBank[idx], axs[idx, 1])\n",
    "\n",
    "\n"
   ]
  },
  {
   "attachments": {},
   "cell_type": "markdown",
   "metadata": {},
   "source": [
    "b. Berechnen Sie geglättete und wiederum normierte Versionen der quadrierten Impulsantwort als gleitenden Mittelwert mit einem Rechteckfenster von 50 ms Länge und Normierung auf das Maximum der geglätteten Kurve (0 dB-Punkt). Plotten Sie diese für die sieben Oktavbänder. (2 Punkte)"
   ]
  },
  {
   "cell_type": "code",
   "execution_count": 4,
   "metadata": {},
   "outputs": [],
   "source": [
    "# Loesung Aufgabe 2b\n"
   ]
  },
  {
   "attachments": {},
   "cell_type": "markdown",
   "metadata": {},
   "source": [
    "c. Bestimmen Sie den Anfangspunkt der Impulsantworten als das Maximum der geglätteten Kurve und das Ende der Impulsantwort als Schnittpunkt einer initialen Schätzung der Steigung der geglätteten Kurve mit dem Noise Floor. Die Steigung soll als lineare Regressions zwischen dem Maximum der geglätteten Kurve und einem Punkt 10 dB oberhalb des Noise Floors berechnet werden, der Noise Floor als energetischer Mittelwert über die letzten 10 % der Impulsantwort. Markieren Sie Anfangs- und Endpunkt in der Darstellung der Kurven. (3 Punkte)"
   ]
  },
  {
   "cell_type": "code",
   "execution_count": 5,
   "metadata": {},
   "outputs": [],
   "source": [
    "# Loesung Aufgabe 2c\n"
   ]
  },
  {
   "attachments": {},
   "cell_type": "markdown",
   "metadata": {},
   "source": [
    "d. Berechnen Sie für jede dieser Kurven eine Kompensationsenergie Ecomp für den durch den Noise Floor verdeckten Teil des Ausklangs nach Lundeby et al. (1995, S. 347f.) (3 Punkte)"
   ]
  },
  {
   "cell_type": "code",
   "execution_count": 6,
   "metadata": {},
   "outputs": [],
   "source": [
    "# Loesung Aufgabe 2d\n"
   ]
  },
  {
   "attachments": {},
   "cell_type": "markdown",
   "metadata": {},
   "source": [
    "e. Berechnen Sie unter Verwendung des oben ermittelten Anfangs- und Endpunkts der Impulsantwort und der Kompensationsenergie Ecomp die Decay Curve als Rückwärtsintegration der quadrierten Impulsantwort (Schroeder-Integral). Plotten Sie diese für die sieben Oktavbänder. (2 Punkte)"
   ]
  },
  {
   "cell_type": "code",
   "execution_count": 7,
   "metadata": {},
   "outputs": [],
   "source": [
    "# Loesung Aufgabe 2e"
   ]
  },
  {
   "attachments": {},
   "cell_type": "markdown",
   "metadata": {},
   "source": [
    "f. Bestimmen Sie in Oktavbändern die Nachhallzeiten T10, T20 und T30 aus den Decay Curves als Steigung einer linearen Regressionsgeraden zwischen den in ISO 3382:2008 definierten Anfangs- und Endpunkten. Prüfen Sie jeweils, ob die für die Bestimmung von T10, T20 und T30 erforderlichen Signal-Rauschabstände gegeben sind und geben nur die Werte aus, bei denen dies der Fall ist. (3 Punkte)"
   ]
  },
  {
   "cell_type": "code",
   "execution_count": 8,
   "metadata": {},
   "outputs": [],
   "source": [
    "# Loesung Aufgabe 2f\n"
   ]
  },
  {
   "cell_type": "markdown",
   "metadata": {},
   "source": [
    "g. Bestimmen Sie, unter Berücksichtigung der in c. bestimmten Anfangs- und Endpunkte sowie der in d. bestimmten Kompensationsenergie, die Werte für das Stärkemaß G und das Klarheitsmaß C80 in Oktavbändern, sowie Einzahlwerte als Mittelwerte über die in DIN EN 3382-1:2008 vorgesehenen Oktavbänder. (3 Punkte)"
   ]
  },
  {
   "cell_type": "code",
   "execution_count": 9,
   "metadata": {},
   "outputs": [],
   "source": [
    "# Loesung Aufgabe 2g"
   ]
  },
  {
   "attachments": {},
   "cell_type": "markdown",
   "metadata": {},
   "source": [
    "h. Vergleichen Sie Ihre Berechnungen mit den in \n",
    "\n",
    "Weinzierl, S., Sanvito, P., Schultz, F., & Büttner, C. (2015). The acoustics of renaissance theatres in Italy. Acta Acustica United with Acustica, 101(3), 632-641.\n",
    "\n",
    "veröffentlichten Werten und diskutieren Sie Gründe für eine nicht perfekte Übereinstimmung. (3 Punkte)"
   ]
  },
  {
   "cell_type": "markdown",
   "metadata": {},
   "source": [
    "### Lösung Aufgabe 2h\n",
    "\n",
    "..."
   ]
  }
 ],
 "metadata": {
  "interpreter": {
   "hash": "a077222d77dfe082b8f1dd562ad70e458ac2ab76993a0b248ab0476e32e9e8dd"
  },
  "kernelspec": {
   "display_name": "Python 3.8.5 ('base')",
   "language": "python",
   "name": "python3"
  },
  "language_info": {
   "codemirror_mode": {
    "name": "ipython",
    "version": 3
   },
   "file_extension": ".py",
   "mimetype": "text/x-python",
   "name": "python",
   "nbconvert_exporter": "python",
   "pygments_lexer": "ipython3",
   "version": "3.8.5"
  }
 },
 "nbformat": 4,
 "nbformat_minor": 4
}
