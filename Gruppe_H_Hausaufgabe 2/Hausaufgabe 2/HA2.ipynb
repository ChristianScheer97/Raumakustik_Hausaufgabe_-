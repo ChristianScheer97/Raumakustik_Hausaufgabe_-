{
 "cells": [
  {
   "cell_type": "markdown",
   "metadata": {},
   "source": [
    "# Hausaufgabe 2: Rhino, Grasshopper und Pachyderm\n",
    "\n",
    "Die Lösungen zur Hausaufgabe 2 (22P) sind je Gruppe als Zip-Archiv, bestehend aus folgenden Dateien, bis zum 26.06.2022 um 23:55 auf ISIS hochzuladen:\n",
    "\n",
    "- PachydermRhinoGewandhaus1.3dm\n",
    "- PachydermRhinoGewandhaus2.3dm\n",
    "- PachydermGrasshopper.3dm\n",
    "- PachydermGrasshopper.gh\n",
    "- HA2.ipynb (diese Datei)\n",
    "\n",
    "Pachyderm lässt sich nur auf Windows installieren. Auf macOS lässt sich Windows innerhalb einer Virtualisierungssoftware, wie Parallels oder VirtualBox installieren. Organisieren Sie sich innerhalb Ihrer Gruppe so, dass eine geeignete Platform zur Verfügung steht, in der die Software startet und die Simulation durchläuft (16 GB RAM sollten reichen).\n",
    "\n",
    "## Links\n",
    "\n",
    "Die Testversion von Rhino bietet vollen Funktionsumfang für 90 Tage:\n",
    "\n",
    "https://www.rhino3d.com/download/\n",
    "\n",
    "Pachyderm:\n",
    "\n",
    "https://www.food4rhino.com/de/node/1877\n",
    "\n",
    "Einen guten Einstieg bieten diese Tutorials (insbesondere auf Seite 2):\n",
    "\n",
    "https://vimeo.com/showcase/4864877"
   ]
  },
  {
   "cell_type": "markdown",
   "metadata": {},
   "source": [
    "## Aufgabe 1: Pachderm & Rhino (10P)\n",
    "\n",
    "\"Rhinoceros 3D\" ist als NURB-basiertes CAD-Programm seit den 1990ern insbesondere in den Bereichen Architektur sowie Industrie- und Produktdesign verbreitet. Das Rhino-Plugin \"Pachyderm Acoustics\" ist eine Open-Source-Software des Architekten Arthur van der Harten, welche eine Vielzahl an Tools für die Raumakustiksimulation mitbringt. Ihre Aufgabe ist es, Pachyderm für die raumakustische Simulation des Gewandshaus Leipzig und zur Erzeugung einer Raumimpulsantwort zu nutzen.\n",
    "\n",
    "![alt text](PachydermRhinoGewandhaus.png \"Rhino Gewandhaus\")\n",
    "*Rhino Nutzeroberfläche*"
   ]
  },
  {
   "cell_type": "markdown",
   "metadata": {},
   "source": [
    "### Allgemeine Hinweise\n",
    "\n",
    "Seien Sie geduldig, nach Anstoßen der Simulation antwortet die Software einige Zeit nicht. Falls das Programm ungewohnt lange nicht antwortet und abgestürzt sein sollte liegt vermutlich einer der folgenden Fehler vor:\n",
    "\n",
    "- Materialien sind nicht den Ebenen zugeordnet\n",
    "- Anzahl der Rays sind für den PC zu hoch\n",
    "- Quellen und Empfänger sind nicht richtig definiert\n",
    "- Falls Ebenen auf der Pachydermoberfläche nicht angezeigt werden, hilft es Rhino und die Datei neu zu laden\n",
    "\n",
    "**In Pachyderm Material anlegen, Ebene Material zuordnen:**\n",
    "1. Material mit Namen anlegen bzw. speichern, Absorption anpassen und speichern\n",
    "2. Die Ebene in Pachyderm auswählen und das passende Material anklicken (das zuletzt angeklickte Material wird der Ebene zugeordnet)\n",
    "3. Streugrade der Ebene zuordnen (lassen sich ggf. leider nicht mit dem Material abspeichern)"
   ]
  },
  {
   "cell_type": "markdown",
   "metadata": {},
   "source": [
    "### Aufgabe A (3P)\n",
    "\n",
    "Öffnen Sie die Datei \"PachydermRhinoGewandhaus.3dm\" und `Pachyderm_Acoustics` (In die Kommandozeile von Rhino eingeben und mit *Enter* bestätigen) und machen Sie sich mit der Nutzeroberfläche vertraut. Erstellen Sie akustische Materialien mit den Absorptions- und Streukoeffizienten aus der Datei \"AbsorptionsAndScatteringsPercentages.xlsx\", bennen Sie Materialien (Pachyderm) und zugehörige Ebenen (Rhino), nach den Namen der Tabellenblätter und weisen Sie jeder Ebene das entsprechende Material zu. Für die Ebene \"Seats\" verwenden Sie bitte das Material \"Seats unoccupied - Medium upholstered\" (Benarek 2004)."
   ]
  },
  {
   "cell_type": "markdown",
   "metadata": {},
   "source": [
    "### Aufgabe B (2P)\n",
    "\n",
    "Fügen Sie dem Modell eine Quelle / Dodekaeder (`Insert_Source`) und einen Empfänger (`Insert_Receiver`) an Positionen mittig auf der Bühne und im Puplikum hinzu. Ermitteln Sie außerdem das ungefähre Volumen des Saals."
   ]
  },
  {
   "cell_type": "markdown",
   "metadata": {},
   "source": [
    "*Volumen hier eintragen*"
   ]
  },
  {
   "cell_type": "markdown",
   "metadata": {},
   "source": [
    "### Aufgabe C (1P)\n",
    "\n",
    "Starten Sie die Simulation mit folgenden Einstellungen:\n",
    "\n",
    "- IS Order: 2\n",
    "- Number of Rays: 25 * V (in m³)\n",
    "- Cutoff time: 2000 ms\n",
    "\n",
    "Ermitteln Sie die Nachhallzeiten T30 und speichern Sie die Datei als \"PachydermRhinoGewandhaus1.3dm\"."
   ]
  },
  {
   "cell_type": "markdown",
   "metadata": {},
   "source": [
    "*T30 für alle Oktavbänder hier eintragen*"
   ]
  },
  {
   "cell_type": "markdown",
   "metadata": {},
   "source": [
    "### Aufgabe D (2P)\n",
    "\n",
    "Wiederholen Sie Aufgabe C. Verwenden Sie diesmal jedoch das Material \"Audience, seats fully occupied - Medium upholstered\" (Benarek 2004) für die entsprechende Ebene \"Seats\". Speichern Sie die Datei als \"PachydermRhinoGewandhaus2.3dm\"."
   ]
  },
  {
   "cell_type": "markdown",
   "metadata": {},
   "source": [
    "*T30 für alle Oktavbänder hier eintragen*"
   ]
  },
  {
   "cell_type": "markdown",
   "metadata": {},
   "source": [
    "Erläutern Sie kurz, inwiefern sich die Nachhallzeit geändert hat."
   ]
  },
  {
   "cell_type": "markdown",
   "metadata": {},
   "source": [
    "*Erläuterung*"
   ]
  },
  {
   "cell_type": "markdown",
   "metadata": {},
   "source": [
    "### Aufgabe E (2P)\n",
    "\n",
    "Exportieren Sie die die Raumimpulsantworten, laden Sie diese mithilfe von Pyfar und plotten Sie diese im Zeitbereich sowie das Betragsspektrum."
   ]
  },
  {
   "cell_type": "code",
   "execution_count": null,
   "metadata": {},
   "outputs": [],
   "source": [
    "# Pyfar Lösungen hier einfügen"
   ]
  },
  {
   "cell_type": "markdown",
   "metadata": {},
   "source": [
    "## Aufgabe 2: Pachderm & Grasshopper (12P)\n",
    "\n",
    "Grasshopper ist eine visuelle Programmiersprache und seit Rhino 6.0 fester Bestandteil der CAD-Software. Es ermöglicht **parametrisches Design**, also die Erzeugung von Formen und anderen Eigenschaften in CAD über Algorithmen und deren Manipulation über Parameter. Das **generative Design** baut hierauf auf und ermöglicht die Erzeugung völlig neuer Formen bspw. basierend auf evolutionären Algorithmen.\n",
    "\n",
    "In der Rhino-Datei \"PachydermGrasshopper.3dm\" ist ein Raum als Quader mit den Abmessungen 10 x 8 x 4 m³ modelliert. Mittels Grasshopper soll ein Decken-Panel in Höhe und Größe variiert werden, sodass sich die raumakustischen Eigenschaften C50 und das Stärkemaß (hier wird zur Vereinfachung die SPL-Komponente verwendet) ändern. Die Simulation und Auswertung erfolgt über die Grasshopperkomponenten von Pachyderm. Nutzen Sie zur Lösung der Aufgabe die Dateien \"PachydermGrasshopper.3dm\" und \"PachydermGrasshopper.gh\". Die folgenden Aufgaben finden sich genauso in der Grasshopper Solution \"PachydermGrasshopper.gh\" auf dem Canvas in der Nähe der jeweils zugehörigen Gruppen (weiß unterlegte Bereiche) wieder.\n",
    "\n",
    "![alt text](PachydermGrasshopper.png \"Pachyderm Grasshopper\")\n",
    "*Grasshopper und Rhino Nutzeroberfläche*"
   ]
  },
  {
   "cell_type": "markdown",
   "metadata": {},
   "source": [
    "\n",
    "### Allgemeine Hinweise\n",
    "\n",
    "* Sperren Sie den Solver, bevor Sie Änderungen vornehmen, um das Initiieren der Simulation zu unterbinden. \n",
    "* Der Einfachheit halber wurde SPL anstelle des eigentlich passenderen Stärkemaßes verwendet.\n",
    "\n",
    "### Tipps\n",
    "\n",
    "1. ALT-Rechts + Mausklick links auf die Komponente\n",
    "2. CTRL (+Shift) + Pfeil Links/Rechts um Verbindungen zwischen Komponenten nachverfolgen zu können.\n",
    "3. Doppelklick, dann `//` für Panels\n",
    "4. Display -> Draw full Names / Icons\n",
    "5. Mittlere Maustaste: Sperren des Solvers / der Komponente, s. Screenshot:\n",
    "\n",
    "![alt text](middle_mouse.png \"Mittlere Maustaske Solver/Komponente deaktivieren\")"
   ]
  },
  {
   "cell_type": "markdown",
   "metadata": {},
   "source": [
    "### Aufgabe A (2P)\n",
    "\n",
    "Verbinden Sie die Komponenten so, dass das Panel in einem Abstand von 1,0 bis 0,1 m zur Decke positioniert und die Fläche von 0 bis 100 % der Deckenfläche variiert werden können.\n",
    "\n",
    "**Hinweis:**\n",
    "\n",
    "Verwenden Sie `<` um die ensprechenden Slider zu definieren."
   ]
  },
  {
   "cell_type": "markdown",
   "metadata": {},
   "source": [
    "### Aufgabe B (1P)\n",
    "\n",
    "Verbinden Sie die Komponenten so, dass das akustische Panel als Bestandteil der Pachyderm *Pylogon Scene* verstanden und das passende akustische Material verwendet wird. Hierfür sollen den Ebenen *Floor*, *Wall*, *Ceiling* und *Panel* in Rhino die ensprechenden Absorptions- und Streukoeffizienten aud der Tabelle \"AbsorptionsAndScatteringsPercentages.xlsx\" in der Pachderm-Nutzeroberfläche zugeordnet werden."
   ]
  },
  {
   "cell_type": "markdown",
   "metadata": {},
   "source": [
    "### Aufgabe C (2P)\n",
    "\n",
    "Definieren Sie den Sitzbereich, indem Sie  der Surface-Komponente \"SeatingArea\" eine Referenz zur Fläche, die im Rhino-Projekt definiert ist und über einem Teil der Bodenfläche schwebt, hinzufügen.\n",
    "\n",
    "Erzeugen Sie im Sitzbereich 9 äquidistante Empfängerpositionen mithilfe der Grid-Komponente. Verbinden Sie die Komponenten so, dass Sie 9 valide Empfänger und eine Quelle für die anschließende Simulation haben."
   ]
  },
  {
   "cell_type": "markdown",
   "metadata": {},
   "source": [
    "### Aufgabe D (1P)\n",
    "\n",
    "Verbinden Sie folgende Eingänge jeweils mit Slidern und stellen Sie sie auf die entpsrechenden Werte ein:\n",
    "\n",
    "- Order bzw. IS_Order: 2\n",
    "- RayCt: 10.000\n",
    "- CO_Time: 2000\n",
    "\n",
    "**Hinweis:**\n",
    "\n",
    "Sperren Sie den Solver vor der Einstellung!"
   ]
  },
  {
   "cell_type": "markdown",
   "metadata": {},
   "source": [
    "### Aufgabe E (2P)\n",
    "\n",
    "Stellen Sie die Komponenten unten so ein, dass C50 und SPL in den Oktavbändern für 500 und 1000 Hz berechnet wird."
   ]
  },
  {
   "cell_type": "markdown",
   "metadata": {},
   "source": [
    "### Aufgabe F (2P)\n",
    "\n",
    "Passen Sie die Höhe und Fläche des Panels sukzessive an, sodass ein guter Kompromiss aus Klarheitsmaß (C50) und außreichend hohem Schalldruckpegel (SPL)  gefunden werden kann.\n",
    "\n",
    "**Hinweis:**\n",
    "\n",
    "Der Ausgangswert aus dem Cluster ist zu maxmieren und sollte idealerweise größer als 1 sein.\n",
    "\n",
    "Sperren Sie den Solver vor der Einstellung!"
   ]
  },
  {
   "cell_type": "markdown",
   "metadata": {},
   "source": [
    "### Aufgabe G (2P)\n",
    "\n",
    "Erläutern Sie kurz, wie sich die Positionierung von Absorbern auf das Klarheits- und Stärkemaß auswirken können."
   ]
  },
  {
   "cell_type": "markdown",
   "metadata": {},
   "source": [
    "*Erläuterungen hier...*"
   ]
  }
 ],
 "metadata": {
  "interpreter": {
   "hash": "e9d710c76553d37355d43ca38386c8342ff812c9c879830e469696f7dc26fd6a"
  },
  "kernelspec": {
   "display_name": "Python 3 (ipykernel)",
   "language": "python",
   "name": "python3"
  },
  "language_info": {
   "codemirror_mode": {
    "name": "ipython",
    "version": 3
   },
   "file_extension": ".py",
   "mimetype": "text/x-python",
   "name": "python",
   "nbconvert_exporter": "python",
   "pygments_lexer": "ipython3",
   "version": "3.9.7"
  }
 },
 "nbformat": 4,
 "nbformat_minor": 2
}
