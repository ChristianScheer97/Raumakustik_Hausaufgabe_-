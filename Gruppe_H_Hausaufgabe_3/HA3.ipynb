{
 "cells": [
  {
   "cell_type": "markdown",
   "metadata": {},
   "source": [
    "# Hausaufgabe 3 (11P)"
   ]
  },
  {
   "cell_type": "markdown",
   "metadata": {},
   "source": [
    "\n",
    "### Hinweise zur Abgabe\n",
    "\n",
    "Abgabetermin ist **Mittwoch, 20. Juli 2022, 23:55 Uhr**. Die Abgabe erfolgt über die Upload-Option im ISIS-Kurs. Verspätete Abgaben bzw. Abgaben, die nicht über das ISIS-Portal erfolgen, werden für die Bewertung nicht berücksichtigt. Pro Gruppe wird nur eine Abgabe hochgeladen.\n",
    "\n",
    "Die Hausaufgabe soll in Form eines Jupyter Notebooks und der Unity-Dateien (s. Hinweis unten) als ZIP-Archiv abgegeben werden. Dazu können Sie dieses Notebook als Vorlage benutzen. Das Notebook soll dabei sowohl alle Programmieraufgaben als auch alle schriftlich zu beantwortenden Aufgaben umfassen. Programmieraufgaben sollen als Code-Zelle implementiert werden. Schriftliche Aufgaben können mit Markdown-Zellen beantwortet werden. Grafiken sollen jeweils durch die Code-Zellen erzeugt werden. Achten Sie auf eine korrekte und vollständige Beschriftung der Grafiken (Achsen, Legenden). Im Notebook sind außerdem Namen und Matrikelnummern aller Gruppenmitglieder anzugeben.\n",
    "\n",
    "Beachten Sie, dass das Notebook ausführbar und nachvollziehbar kommentiert ist. Ihre Abgabe muss alle Dateien umfassen, die zur fehlerfreien Ausführung des Notebooks notwendig sind. Alle abzugebenden Dateien müssen als ZIP-Datei komprimiert und mit der Namenskonvention Elektroakustik_SoSe22_HA2_GruppeXX versehen werden (ersetzen Sie XX entsprechend durch Ihre Gruppe, z.B. GruppeA).\n",
    "\n",
    "Zur Lösung der Hausaufgabe können u.a. folgende Module verwendet werden:"
   ]
  },
  {
   "cell_type": "code",
   "execution_count": 2,
   "metadata": {},
   "outputs": [],
   "source": [
    "import numpy as np\n",
    "import matplotlib.pyplot as plt\n",
    "%config InlineBackend.figure_format='svg' \n",
    "import pyfar as pf\n",
    "import sounddevice as sd"
   ]
  },
  {
   "cell_type": "markdown",
   "metadata": {},
   "source": [
    "### Aufgabe 1 (3P)\n",
    "\n",
    "Wie groß sind Wandimpedanz und Absorptionsgrad einer Schicht aus Schaumstoff mit einem Strömungswiderstand von Ξ = 2⋅10^4   Ns∕m^4  und einer Porösität von 𝜎 = 0,97 mit einer Schichtdicke von 10 cm vor einer schallharten Wand bei den Frequenzen 300 Hz und 1000 Hz?"
   ]
  },
  {
   "cell_type": "markdown",
   "metadata": {},
   "source": []
  },
  {
   "cell_type": "markdown",
   "metadata": {},
   "source": [
    "### Aufgabe 2 (3P)\n",
    "Ein Resonanzabsorber, realisiert durch einen Plattenabsorber vor einem geschlossenen Lufvorlumen, soll auf die Resonanzfrequenz von 300 Hz (500 Hz) eingestellt werden. Für das Luftvolumen ist eine Schichtdicke von 5 cm vorgesehen. Welche Massenbeläge sind erforderlich? Wie wirkt sich eine Erhöhung des Massenbelags 𝑚′ und eine Verringerung der Schichtdicke 𝑑, so dass 𝑚′ 𝑑=const., auf die Lage der Resonanzfrequenz und auf die Güte der Resonanz, d.h. die Breite des Resonanzgipfels, aus?"
   ]
  },
  {
   "cell_type": "markdown",
   "metadata": {},
   "source": []
  },
  {
   "cell_type": "markdown",
   "metadata": {},
   "source": [
    "### Aufgabe 3 (2P)\n",
    "In welchem Frequenzbereich liegt in einem Kundtschen Rohr mit einem quadratischen Querschnitt von 10 cm Seitenlänge ein vollständig ebenes Schallfeld vor, bei dem sich der Schalldruck nur in Längsrichtung des Rohrs verändert?"
   ]
  },
  {
   "cell_type": "markdown",
   "metadata": {},
   "source": []
  },
  {
   "cell_type": "markdown",
   "metadata": {},
   "source": [
    "### Aufgabe 4: Unity & Oculus Spatializer (3P)\n",
    "\n",
    "Installieren Sie Unity in der Version 2021.3.5f1 und den Oculus Spatializer. Folgen Sie hierfür der Anleitung auf dieser Seite: https://developer.oculus.com/documentation/unity/audio-osp-unity-req-setup/?locale=de_DE.\n",
    "\n",
    "1. In Unity navigieren Sie zum Ordner: `/Assets/Oculus/Spatializer/scenes` und legen Sie hier den Unterordner `Hausaufgabe3` an. Kopieren Sie die Sample Scene \"RedBallGreenBall\" (https://developer.oculus.com/documentation/unity/audio-osp-unity-scene/) in den zuvor angelegten Unterordner und nennen Sie die Kopie \"Hausaufgabe3\". Alle folgenden Schritte sollen innerhalb des Ordners `Hausaufgabe3` und innerhalb der eben kopierten, gleichnamigen Szene erfolgen.\n",
    "\n",
    "\n",
    "2. Importieren Sie die Datein `GewandHausPublikum.fbx` sowie `GewandHausRest.fbx` und fügen Sie die Objekte gleichzeitig der Szene hinzu.\n",
    "\n",
    "\n",
    "3. Importieren Sie den Ordner `Quartett`. Löschen sie die rote Quelle. Verteilen Sie 4 Kopien der grünen Quellen auf der Bühne im Gewandhaus, nennen Sie diese Violine1, Violine2, Bratsche und Cello und ordnen Sie diesen jeweils die entsprechenden Wav-Dateien des Streichquartetts zu.\n",
    "\n",
    "\n",
    "4. Erstellen Sie ein Objekt \"Camera\" und fügen Sie diesem das Skript \"FlyCamera\" hinzu.\n",
    "\n",
    "\n",
    "5. Wählen Sie die Objekte `GewandHausPublikum` und `GewandHausRest` in der Szene aus und fügen Sie diesem die Komponenten \"ONSP Propagation Geometry (Script)\" und \"ONSP Propagation Material (Script)\" hinzu.\n",
    "\n",
    "\n",
    "6. Starten Sie die Szene (Play), navigieren Sie durch das Gewandhaus und hören Sie sich die Auralisation an.\n",
    "\n",
    "\n",
    "7. Verlassen Sie den Play-Modus und wählen Sie die jeweiligen Komponenten \"ONSP Propagation Material (Script)\" das Sie vorher dem GewandHaus-Objekt hinzugefügt haben aus und Ordnen Sie die folgenden Absorptionskoeffizienten von 125Hz bis 4 kHz grob zu (Scattering und Transmission kann so belassen werden):\n",
    "\n",
    "\n",
    "![Absorptionskoeffizienten](absorption.png)\n",
    "\n",
    "8. Wählen Sie jeweils im \"ONSP Propagation Geometry (Script)\" desselben Objekts \"File Enabled\" aus und klicken Sie auf \"Bake Mesh to File\".\n",
    "\n",
    "\n",
    "9. Starten Sie nun die Szene erneut und hören Sie sich die Auralisation an."
   ]
  },
  {
   "cell_type": "markdown",
   "metadata": {},
   "source": [
    "### Hinweis zur Abgabe\n",
    "\n",
    "Fügen Sie den in Unity erstellten Ordner `Hausaufgabe 3` Ihrem Upload hinzu. Löschen Sie vorher bitte den Unterordner `Quartett`, sodass die maximale Dateigröße nicht überschritten wird."
   ]
  }
 ],
 "metadata": {
  "interpreter": {
   "hash": "e9d710c76553d37355d43ca38386c8342ff812c9c879830e469696f7dc26fd6a"
  },
  "kernelspec": {
   "display_name": "Python 3 (ipykernel)",
   "language": "python",
   "name": "python3"
  },
  "language_info": {
   "codemirror_mode": {
    "name": "ipython",
    "version": 3
   },
   "file_extension": ".py",
   "mimetype": "text/x-python",
   "name": "python",
   "nbconvert_exporter": "python",
   "pygments_lexer": "ipython3",
   "version": "3.9.12"
  }
 },
 "nbformat": 4,
 "nbformat_minor": 2
}
