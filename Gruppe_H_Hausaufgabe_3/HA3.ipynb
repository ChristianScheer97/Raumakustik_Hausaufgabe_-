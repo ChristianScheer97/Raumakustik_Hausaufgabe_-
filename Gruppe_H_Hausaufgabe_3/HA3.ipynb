{
 "cells": [
  {
   "cell_type": "markdown",
   "metadata": {},
   "source": [
    "# Hausaufgabe 3 (11P)"
   ]
  },
  {
   "cell_type": "markdown",
   "metadata": {},
   "source": [
    "\n",
    "### Hinweise zur Abgabe\n",
    "\n",
    "Abgabetermin ist **Mittwoch, 20. Juli 2022, 23:55 Uhr**. Die Abgabe erfolgt über die Upload-Option im ISIS-Kurs. Verspätete Abgaben bzw. Abgaben, die nicht über das ISIS-Portal erfolgen, werden für die Bewertung nicht berücksichtigt. Pro Gruppe wird nur eine Abgabe hochgeladen.\n",
    "\n",
    "Die Hausaufgabe soll in Form eines Jupyter Notebooks und der Unity-Dateien (s. Hinweis unten) als ZIP-Archiv abgegeben werden. Dazu können Sie dieses Notebook als Vorlage benutzen. Das Notebook soll dabei sowohl alle Programmieraufgaben als auch alle schriftlich zu beantwortenden Aufgaben umfassen. Programmieraufgaben sollen als Code-Zelle implementiert werden. Schriftliche Aufgaben können mit Markdown-Zellen beantwortet werden. Grafiken sollen jeweils durch die Code-Zellen erzeugt werden. Achten Sie auf eine korrekte und vollständige Beschriftung der Grafiken (Achsen, Legenden). Im Notebook sind außerdem Namen und Matrikelnummern aller Gruppenmitglieder anzugeben.\n",
    "\n",
    "Beachten Sie, dass das Notebook ausführbar und nachvollziehbar kommentiert ist. Ihre Abgabe muss alle Dateien umfassen, die zur fehlerfreien Ausführung des Notebooks notwendig sind. Alle abzugebenden Dateien müssen als ZIP-Datei komprimiert und mit der Namenskonvention Elektroakustik_SoSe22_HA2_GruppeXX versehen werden (ersetzen Sie XX entsprechend durch Ihre Gruppe, z.B. GruppeA).\n",
    "\n",
    "Zur Lösung der Hausaufgabe können u.a. folgende Module verwendet werden:"
   ]
  },
  {
   "cell_type": "code",
   "execution_count": 2,
   "metadata": {},
   "outputs": [],
   "source": [
    "import numpy as np\n",
    "import matplotlib.pyplot as plt\n",
    "%config InlineBackend.figure_format='svg' \n",
    "import pyfar as pf\n",
    "import sounddevice as sd"
   ]
  },
  {
   "cell_type": "markdown",
   "metadata": {},
   "source": [
    "### Aufgabe 1 (3P)\n",
    "\n",
    "Wie groß sind Wandimpedanz und Absorptionsgrad einer Schicht aus Schaumstoff mit einem Strömungswiderstand von Ξ = 2⋅10^4   Ns∕m^4  und einer Porösität von 𝜎 = 0,97 mit einer Schichtdicke von 10 cm vor einer schallharten Wand bei den Frequenzen 300 Hz und 1000 Hz?"
   ]
  },
  {
   "cell_type": "markdown",
   "metadata": {},
   "source": [
    "$\\alpha=\\frac{4 \\operatorname{Re}\\left\\{\\frac{z}{\\rho_{0} c}\\right\\}}{\\left[\\operatorname{Re}\\left\\{\\frac{z}{\\rho_{0} c}\\right\\}+1\\right]^{2}+\\left[\\operatorname{Im} \\left\\{\\frac{z}{\\rho_{0} c}\\right\\}\\right]^{2}}$\n",
    "\n",
    "mit \n",
    "\n",
    "$k^{\\prime}=\\frac{\\omega}{c} \\sqrt{1-\\frac{j \\sigma \\Xi}{\\rho_{0}c}}$\n",
    ",\n",
    "\n",
    "$z_{0 e}=\\frac{\\rho_{0} c}{\\sigma} \\sqrt{1-\\frac{j \\sigma \\Xi}{\\rho_{0 \\omega}}}$\n",
    "\n",
    "und\n",
    "\n",
    "$z=-j z_{0 e} \\cot \\left(k^{\\prime} d\\right)$\n",
    "\n",
    "ist\n",
    "\n",
    "$\\alpha = \\frac{4 \\operatorname{Re}\\left\\{\\frac{-j\\left(\\frac{\\rho_{0} c}{\\sigma} 1-\\frac{j \\sigma \\Xi}{\\rho_{0} \\omega}\\right) \\cot \\left(d \\cdot\\left[\\frac{\\omega}{c} (1-\\frac{j \\sigma \\Xi}{\\rho_{0} c})\\right]\\right)}{\\rho_{0} c}\\right\\}} \n",
    "{\\bigg[ \\operatorname{Re}\\left\\{\\frac{-j\\left(\\frac{\\rho_{0} c}{\\sigma} 1-\\frac{j \\sigma \\Xi}{\\rho_{0} \\omega}\\right) \\cot \\left(d \\cdot\\left[\\frac{\\omega}{c} (1-\\frac{j \\sigma \\Xi}{\\rho_{0} c})\\right]\\right)}{\\rho_{0} c}\\right\\} + 1\\bigg]^2 + \n",
    "\\bigg[ \\operatorname{Im}\\left\\{\\frac{-j\\left(\\frac{\\rho_{0} c}{\\sigma} 1-\\frac{j \\sigma \\Xi}{\\rho_{0} \\omega}\\right) \\cot \\left(d \\cdot\\left[\\frac{\\omega}{c} (1-\\frac{j \\sigma \\Xi}{\\rho_{0} c})\\right]\\right)}{\\rho_{0} c}\\right\\}\\bigg]^2}$\n"
   ]
  },
  {
   "cell_type": "code",
   "execution_count": 18,
   "metadata": {},
   "outputs": [
    {
     "name": "stdout",
     "output_type": "stream",
     "text": [
      "[0.6171183096379277, 0.8368709814048154]\n",
      "[(946.4051137827133-828.4616934904898j), (583.5444042226595-398.7783898925541j)]\n"
     ]
    }
   ],
   "source": [
    "fs = np.array([300, 1000])\n",
    "ws = 2*np.pi*fs\n",
    "c = 343.2\n",
    "rho_0 = 1.2041\n",
    "sigma = 0.97\n",
    "Xi = 2e+4\n",
    "d = 0.1\n",
    "\n",
    "def calc_k_complex(omega):\n",
    "    return((omega/c) * np.sqrt(1 - (1j*sigma*Xi/(rho_0*c))))\n",
    "\n",
    "def calc_z0_e(omega):\n",
    "    return(rho_0*c/sigma*np.sqrt(1 - (1j*sigma*Xi/(rho_0*omega))))\n",
    "\n",
    "def calc_z(k_complex, z0_e):\n",
    "    return(-1j*z0_e*(1/np.tan(k_complex*d)))\n",
    "\n",
    "alphas = []\n",
    "zs = []\n",
    "for w in ws:\n",
    "    k_complex = calc_k_complex(w)\n",
    "    z0_e = calc_z0_e(w)\n",
    "    z = calc_z(k_complex, z0_e)\n",
    "    alpha = 4*np.real(z/(rho_0*c)) / ((np.real(z/(rho_0*c)) + 1)**2 + (np.imag(z/(rho_0*c)))**2)\n",
    "    alphas.append(alpha)\n",
    "    zs.append(z)\n",
    "\n",
    "print(alphas)\n",
    "print(zs)"
   ]
  },
  {
   "cell_type": "markdown",
   "metadata": {},
   "source": [
    "| Frequenz in Hz | Wandimpedanz $z$ in $\\mathrm{\\frac{Ns}{m^3}}$ | Absorptionsgrad $\\alpha$ |\n",
    "| --- | --- | --- |\n",
    "| 300| 946,41-828,46j | 0.617 |\n",
    "| 1000 | 583,54-398,78j | 0,837 |"
   ]
  },
  {
   "cell_type": "markdown",
   "metadata": {},
   "source": [
    "### Aufgabe 2 (3P)\n",
    "Ein Resonanzabsorber, realisiert durch einen Plattenabsorber vor einem geschlossenen Lufvorlumen, soll auf die Resonanzfrequenz von 300 Hz (500 Hz) eingestellt werden. Für das Luftvolumen ist eine Schichtdicke von 5 cm vorgesehen. Welche Massenbeläge sind erforderlich? Wie wirkt sich eine Erhöhung des Massenbelags 𝑚′ und eine Verringerung der Schichtdicke 𝑑, so dass 𝑚′ 𝑑=const., auf die Lage der Resonanzfrequenz und auf die Güte der Resonanz, d.h. die Breite des Resonanzgipfels, aus?"
   ]
  },
  {
   "cell_type": "markdown",
   "metadata": {},
   "source": [
    "| Resonanz-Frequenz $f_0$ in Hz | erforderlicher Massenbelag $m'$ in $\\frac{kg}{m^2}$ |\n",
    "| --- | --- |\n",
    "| 300 | 80 |\n",
    "| 500 | 28,7 |"
   ]
  },
  {
   "cell_type": "markdown",
   "metadata": {},
   "source": [
    "Für die Resonanzfrequenz gilt $f_0 = \\sqrt{\\frac{\\rho_0 c}{m' d}}$ d.h. solange $m'd = $ const, bleibt die Lage der Resonanzfrequenz unverändert."
   ]
  },
  {
   "cell_type": "markdown",
   "metadata": {},
   "source": [
    "### Aufgabe 3 (2P)\n",
    "In welchem Frequenzbereich liegt in einem Kundtschen Rohr mit einem quadratischen Querschnitt von 10 cm Seitenlänge ein vollständig ebenes Schallfeld vor, bei dem sich der Schalldruck nur in Längsrichtung des Rohrs verändert?"
   ]
  },
  {
   "cell_type": "markdown",
   "metadata": {},
   "source": [
    "Die Cutoff Frequenz im rechteckigen Rohr ist:\n",
    "$ f_{c 1}=\\frac{c}{2 h} $, wobei h die größte Seitenlänge des Querschnitts ist.\n",
    "Eingesetzt ergibt sich $ f_{c 1}=\\frac{343.2}{2 * 0.2 m}=858 Hz $"
   ]
  },
  {
   "cell_type": "markdown",
   "metadata": {},
   "source": [
    "### Aufgabe 4: Unity & Oculus Spatializer (3P)\n",
    "\n",
    "Installieren Sie Unity in der Version 2021.3.5f1 und den Oculus Spatializer. Folgen Sie hierfür der Anleitung auf dieser Seite: https://developer.oculus.com/documentation/unity/audio-osp-unity-req-setup/?locale=de_DE.\n",
    "\n",
    "1. In Unity navigieren Sie zum Ordner: `/Assets/Oculus/Spatializer/scenes` und legen Sie hier den Unterordner `Hausaufgabe3` an. Kopieren Sie die Sample Scene \"RedBallGreenBall\" (https://developer.oculus.com/documentation/unity/audio-osp-unity-scene/) in den zuvor angelegten Unterordner und nennen Sie die Kopie \"Hausaufgabe3\". Alle folgenden Schritte sollen innerhalb des Ordners `Hausaufgabe3` und innerhalb der eben kopierten, gleichnamigen Szene erfolgen.\n",
    "\n",
    "\n",
    "2. Importieren Sie die Datein `GewandHausPublikum.fbx` sowie `GewandHausRest.fbx` und fügen Sie die Objekte gleichzeitig der Szene hinzu.\n",
    "\n",
    "\n",
    "3. Importieren Sie den Ordner `Quartett`. Löschen sie die rote Quelle. Verteilen Sie 4 Kopien der grünen Quellen auf der Bühne im Gewandhaus, nennen Sie diese Violine1, Violine2, Bratsche und Cello und ordnen Sie diesen jeweils die entsprechenden Wav-Dateien des Streichquartetts zu.\n",
    "\n",
    "\n",
    "4. Erstellen Sie ein Objekt \"Camera\" und fügen Sie diesem das Skript \"FlyCamera\" hinzu.\n",
    "\n",
    "\n",
    "5. Wählen Sie die Objekte `GewandHausPublikum` und `GewandHausRest` in der Szene aus und fügen Sie diesem die Komponenten \"ONSP Propagation Geometry (Script)\" und \"ONSP Propagation Material (Script)\" hinzu.\n",
    "\n",
    "\n",
    "6. Starten Sie die Szene (Play), navigieren Sie durch das Gewandhaus und hören Sie sich die Auralisation an.\n",
    "\n",
    "\n",
    "7. Verlassen Sie den Play-Modus und wählen Sie die jeweiligen Komponenten \"ONSP Propagation Material (Script)\" das Sie vorher dem GewandHaus-Objekt hinzugefügt haben aus und Ordnen Sie die folgenden Absorptionskoeffizienten von 125Hz bis 4 kHz grob zu (Scattering und Transmission kann so belassen werden):\n",
    "\n",
    "\n",
    "![Absorptionskoeffizienten](absorption.png)\n",
    "\n",
    "8. Wählen Sie jeweils im \"ONSP Propagation Geometry (Script)\" desselben Objekts \"File Enabled\" aus und klicken Sie auf \"Bake Mesh to File\".\n",
    "\n",
    "\n",
    "9. Starten Sie nun die Szene erneut und hören Sie sich die Auralisation an."
   ]
  },
  {
   "cell_type": "markdown",
   "metadata": {},
   "source": [
    "### Hinweis zur Abgabe\n",
    "\n",
    "Fügen Sie den in Unity erstellten Ordner `Hausaufgabe 3` Ihrem Upload hinzu. Löschen Sie vorher bitte den Unterordner `Quartett`, sodass die maximale Dateigröße nicht überschritten wird."
   ]
  }
 ],
 "metadata": {
  "kernelspec": {
   "display_name": "Python 3.8.5 ('base')",
   "language": "python",
   "name": "python3"
  },
  "language_info": {
   "codemirror_mode": {
    "name": "ipython",
    "version": 3
   },
   "file_extension": ".py",
   "mimetype": "text/x-python",
   "name": "python",
   "nbconvert_exporter": "python",
   "pygments_lexer": "ipython3",
   "version": "3.8.5"
  },
  "vscode": {
   "interpreter": {
    "hash": "a077222d77dfe082b8f1dd562ad70e458ac2ab76993a0b248ab0476e32e9e8dd"
   }
  }
 },
 "nbformat": 4,
 "nbformat_minor": 2
}
